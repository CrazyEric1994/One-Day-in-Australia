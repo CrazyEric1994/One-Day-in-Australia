{
 "cells": [
  {
   "cell_type": "code",
   "execution_count": 14,
   "metadata": {},
   "outputs": [
    {
     "name": "stdout",
     "output_type": "stream",
     "text": [
      "@greggutfeld @realDonaldTrump After that \"Comedian\" at the Trump-Less Ceremony, this whole thing is broken forever.… https://t.co/n1J7kyk1li\n",
      "Sentiment(polarity=-0.1, subjectivity=0.4)\n",
      "\n",
      "\n",
      "@no_cut_card While Trump is Pres,  his businesses are probably making  $400k a week while he a public servant. Obam… https://t.co/j8HmGeQ0QL\n",
      "Sentiment(polarity=0.0, subjectivity=0.06666666666666667)\n",
      "\n",
      "\n",
      "@LOLGOP Really? Fabio? And exactly how has he become so wise? Is he a pal of Trump's in addition to his bookings as… https://t.co/EqTg5sSfNU\n",
      "Sentiment(polarity=0.3833333333333333, subjectivity=0.45)\n",
      "\n",
      "\n",
      "RT @BlissTabitha: What? A Muslim that doesn't like #POTUSTrump? Say it ain't so! 😱  https://t.co/tIrYtEfxCm Funny the left claiming 2 stand…\n",
      "Sentiment(polarity=0.125, subjectivity=0.5)\n",
      "\n",
      "\n",
      "RT @Paintking: Finally Michelle Obama's school lunch program about to be axed...Big Government stay out of lunches\n",
      "https://t.co/koxWJ4OCLf…\n",
      "Sentiment(polarity=0.0, subjectivity=1.0)\n",
      "\n",
      "\n",
      "RT @markknoller: WH says Pres Trump had \"very friendly conversation\" today with Philippines Pres Duterte, a frequent US critic, and invited…\n",
      "Sentiment(polarity=0.29375, subjectivity=0.475)\n",
      "\n",
      "\n",
      "RT @BillPowers9: For eight years Obama told us that we were racist, sexist and homophobic, I think that President Trump actually likes us.\n",
      "Sentiment(polarity=0.0, subjectivity=0.1)\n",
      "\n",
      "\n",
      "RT @chelseahandler: Not to brag, but Donald Trump and I have gotten the same number of laws passed through congress. #100Days\n",
      "Sentiment(polarity=0.0, subjectivity=0.125)\n",
      "\n",
      "\n",
      "RT @MikeHudema: Over 200,000 in DC, tens of thousands around the world rise against Trump's #climate policies https://t.co/TvU7tJa8UM #clim…\n",
      "Sentiment(polarity=0.0, subjectivity=0.0)\n",
      "\n",
      "\n",
      "RT @DumpTrump22: This Russian Collusion must be stopped in its Tracks and #Trump's #Russian Mob #Crime Family must be put away. #TrumpTreas…\n",
      "Sentiment(polarity=0.0, subjectivity=0.0)\n",
      "\n",
      "\n",
      "RT @ExMrsSallah: President Trump's First 100 days makes me think about the bullet America dodged. #Harrisburg #WHCD2017 #NotTheWHCD https:/…\n",
      "Sentiment(polarity=0.25, subjectivity=0.3333333333333333)\n",
      "\n",
      "\n",
      "RT @JuddLegum: 9. The Senate will be harder, because the Republican advantage is razor thin. Ultimately this is more about Ryan's failure t…\n",
      "Sentiment(polarity=-0.06333333333333334, subjectivity=0.53)\n",
      "\n",
      "\n",
      "RT @businessinsider: Donald Trump's 'strange' morning habit tells you everything you need to know about him #100Days https://t.co/y3OmIPYWot\n",
      "Sentiment(polarity=-0.05, subjectivity=0.15)\n",
      "\n",
      "\n",
      "RT @nytopinion: Trump has had the worst beginning of almost any president, writes @NickKristof https://t.co/YRS8D8rJUf https://t.co/gYM8cIg…\n",
      "Sentiment(polarity=-1.0, subjectivity=1.0)\n",
      "\n",
      "\n",
      "The Great Job Exodus Is Upon Us: Trump's Promise to Save American Labor Is Already a Bust @alternet https://t.co/4ExIXBkIZY\n",
      "Sentiment(polarity=0.4, subjectivity=0.375)\n",
      "\n",
      "\n"
     ]
    }
   ],
   "source": [
    "import tweepy\n",
    "from textblob import TextBlob\n",
    "\n",
    "consumer_key = '847hKxaD1NzYzhBqC8bVnn5yL'\n",
    "consumer_secret = '2y0CHV8xjnm9yzRbQPpPxTrdUMDESISloc2krIcdkTJ32H39Hi'\n",
    "\n",
    "access_token = '4888721774-9TSHlOWSJsUuIkYdJBazTKGZuEw9NuhpSkOlI6I'\n",
    "access_token_secret = '9w4ePSrDLZPS8028wdkoHNFyseue2ewwPD5CvpmuYyqQ1'\n",
    "\n",
    "auth = tweepy.OAuthHandler(consumer_key, consumer_secret)\n",
    "auth.set_access_token(access_token, access_token_secret)\n",
    "\n",
    "api = tweepy.API(auth)\n",
    "\n",
    "public_tweets = api.search('Trump')\n",
    "\n",
    "for tweet in public_tweets:\n",
    "    print tweet.text\n",
    "    analysis = TextBlob(tweet.text)\n",
    "    print analysis.sentiment\n",
    "    print '\\n'\n",
    "#     print sentence.sentiment.polarity"
   ]
  },
  {
   "cell_type": "code",
   "execution_count": null,
   "metadata": {
    "collapsed": true
   },
   "outputs": [],
   "source": []
  }
 ],
 "metadata": {
  "anaconda-cloud": {},
  "kernelspec": {
   "display_name": "Python [default]",
   "language": "python",
   "name": "python2"
  },
  "language_info": {
   "codemirror_mode": {
    "name": "ipython",
    "version": 2
   },
   "file_extension": ".py",
   "mimetype": "text/x-python",
   "name": "python",
   "nbconvert_exporter": "python",
   "pygments_lexer": "ipython2",
   "version": "2.7.12"
  }
 },
 "nbformat": 4,
 "nbformat_minor": 1
}
